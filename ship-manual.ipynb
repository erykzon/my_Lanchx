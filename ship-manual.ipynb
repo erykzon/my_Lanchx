{
 "cells": [
  {
   "cell_type": "markdown",
   "metadata": {},
   "source": [
    "# Manual de la Nave"
   ]
  },
  {
   "cell_type": "code",
   "execution_count": null,
   "metadata": {},
   "outputs": [],
   "source": [
    "pip install ipywidgets"
   ]
  },
  {
   "cell_type": "code",
   "execution_count": null,
   "metadata": {},
   "outputs": [],
   "source": [
    "import ipywidgets as widgets\n",
    "\n",
    "ignition = widgets.ToggleButton(\n",
    "    value=False,\n",
    "    description='Iniciar Launch',\n",
    "    button_style='success',\n",
    "    tooltip='Engage your Launch',\n",
    "    icon='rocket'\n",
    ")\n",
    "\n",
    "output = widgets.Output()\n",
    "\n",
    "display(ignition, output)\n",
    "\n",
    "def on_value_change(change):\n",
    "    with output:\n",
    "        if change['new'] == True:\n",
    "            print(\"Nave Iniciada!\")\n",
    "        else:   \n",
    "            print(\"Nave Detenida\")\n",
    "\n",
    "ignition.observe(on_value_change, names='value')"
   ]
  },
  {
   "cell_type": "code",
   "execution_count": null,
   "metadata": {},
   "outputs": [],
   "source": [
    "    !pip install matplotlib\n",
    "    !pip install numpy"
   ]
  },
  {
   "cell_type": "markdown",
   "metadata": {},
   "source": [
    "## Niveles de Oxígeno\n",
    "\n",
    "Muestra diez minutos de niveles de oxígeno en tu nave."
   ]
  },
  {
   "cell_type": "code",
   "execution_count": null,
   "metadata": {},
   "outputs": [],
   "source": [
    "    import numpy as np\n",
    "    import matplotlib.pyplot as plt\n",
    "    data = np.random.default_rng(12345)\n",
    "    oxy_nums = data.integers(low=0, high=10, size=10)\n",
    "\n",
    "    plt.bar(range(len(oxy_nums)), oxy_nums)\n",
    "    plt.show()"
   ]
  },
  {
   "cell_type": "markdown",
   "metadata": {},
   "source": [
    "## Velocidad de la nave\n",
    "\n",
    "Muestra los segundos necesarios para pasar de 0 a 11200 metros por segundo, dada la aceleración de la nave en metros por segundo."
   ]
  },
  {
   "cell_type": "code",
   "execution_count": null,
   "metadata": {},
   "outputs": [],
   "source": [
    "endVelocity = 12350\n",
    "startVelocity = 0\n",
    "acceleration = 138\n",
    "\n",
    "time = (endVelocity - startVelocity) / acceleration\n",
    "print(\"Tiempo para alcanzar la velocidad deseada = \", time)"
   ]
  },
  {
   "cell_type": "markdown",
   "metadata": {},
   "source": [
    "## La fecha es..."
   ]
  },
  {
   "cell_type": "code",
   "execution_count": null,
   "metadata": {},
   "outputs": [],
   "source": [
    "from datetime import date\n",
    "\n",
    "print(\"Today's date is ► \" + str(date.today()))"
   ]
  },
  {
   "cell_type": "markdown",
   "metadata": {},
   "source": [
    "## Conversor de unidades"
   ]
  },
  {
   "cell_type": "code",
   "execution_count": null,
   "metadata": {},
   "outputs": [],
   "source": [
    "parsec = 33\n",
    "lightyears = 3.26156 * parsec\n",
    "\n",
    "print(str(parsec) + \" parsec =  \" + str(lightyears) + \" lightyears ...good bye\")"
   ]
  },
  {
   "cell_type": "markdown",
   "metadata": {},
   "source": [
    "## Kata  ... consola\n",
    "\n",
    "\n",
    "![](img\\Consola_1.png)\n",
    "![](img\\Consola_2.png)\n",
    "![](C:\\Users\\erykz\\Documents\\LAUNCH X\\Katas\\img\\Consola_1.png)\n",
    "![](C:\\Users\\erykz\\Documents\\LAUNCH X\\Katas\\img\\Consola_2.png)\n",
    "\n"
   ]
  },
  {
   "cell_type": "markdown",
   "metadata": {},
   "source": [
    "## Modulo #3"
   ]
  },
  {
   "cell_type": "code",
   "execution_count": null,
   "metadata": {},
   "outputs": [],
   "source": [
    "Práctica 1\n",
    "a = 97\n",
    "b = 55\n",
    "if a < b:\n",
    "    print(b)"
   ]
  },
  {
   "cell_type": "code",
   "execution_count": null,
   "metadata": {},
   "outputs": [],
   "source": [
    "Práctica 2\n",
    "a = 93\n",
    "b = 27\n",
    "if a >= b:\n",
    "    print(a)"
   ]
  },
  {
   "cell_type": "markdown",
   "metadata": {},
   "source": [
    "### Problema 1"
   ]
  },
  {
   "cell_type": "code",
   "execution_count": null,
   "metadata": {},
   "outputs": [],
   "source": [
    "# 3.1 \n",
    "# Añadir el código necesario para crear una variable que guarde la velocidad del asteroide.\n",
    "# Escribe una expresión de prueba para calcular si necesita una advertencia.\n",
    "# Agregue las instrucciones que se ejecutarán si la expresión de prueba es true o false. \n",
    "A= 49\n",
    "if A > 25:\n",
    "    print('¡Do not look up!')\n",
    "else:\n",
    "    print('¡Sigue en las redes sociales!')"
   ]
  },
  {
   "cell_type": "markdown",
   "metadata": {},
   "source": [
    "### Problema 2"
   ]
  },
  {
   "cell_type": "code",
   "execution_count": null,
   "metadata": {},
   "outputs": [],
   "source": [
    "# 3.2\n",
    "# Agrega el código para crear una variable para un asteroide que viaja a 19 km/s\n",
    "# Escribe varias expresiones de prueba para determinar si puedes ver el rayo de luz desde la tierra\n",
    "# Agrega las instrucciones que se ejecutarán si las expresiones de prueba son True o False\n",
    "A= 19\n",
    "if A > 20:\n",
    "    print('Te pierdes de algo magico en el cielo')\n",
    "elif A > 19 or A < 21:\n",
    "    print('En el cielo hay algo, enjoy it! ')\n",
    "else:\n",
    "    print('Like and rt')"
   ]
  },
  {
   "cell_type": "markdown",
   "metadata": {},
   "source": [
    "### Problema 3"
   ]
  },
  {
   "cell_type": "code",
   "execution_count": null,
   "metadata": {},
   "outputs": [],
   "source": [
    "# 3.3\n",
    "# Agrega el código para crear nuevas variables para la velocidad y el tamaño del asteroide\n",
    "# Para probar el código, prueba con varias velocidades y tamaños\n",
    "# Escribe varias expresiones de prueba o combinaciones de expresiones de prueba para determinar qué mensaje se debe enviar a Tierra.\n",
    "Vel = 28\n",
    "Size = 42\n",
    "if Vel > 25 and Size > 25:\n",
    "    print('Hazte bolita y ponte a llorar')\n",
    "elif Vel >= 20 or Vel <= 24:\n",
    "    print('Hay un espectaculo en el cielo')\n",
    "elif Size <= 25:\n",
    "    print('Sigue tu vida')\n",
    "else:\n",
    "    print('Nada que ver aquí :)')"
   ]
  },
  {
   "cell_type": "markdown",
   "metadata": {},
   "source": [
    "## Modulo #4"
   ]
  },
  {
   "cell_type": "code",
   "execution_count": null,
   "metadata": {},
   "outputs": [],
   "source": [
    "txt = \"\"\"Interesting facts about the Moon. The Moon is Earth's only satellite. There are several interesting facts about the Moon and how it affects life here on Earth. \n",
    "On average, the Moon moves 4cm away from the Earth every year. This yearly drift is not significant enough to cause immediate effects on Earth. The highest daylight temperature of the Moon is 127 C.\"\"\""
   ]
  },
  {
   "cell_type": "code",
   "execution_count": null,
   "metadata": {},
   "outputs": [],
   "source": [
    "# 4.1.1 Dividir texto en cada oración para trabajar con su contenido:\n",
    "txt_p = txt.split('. ')\n",
    "txt_p"
   ]
  },
  {
   "cell_type": "code",
   "execution_count": null,
   "metadata": {},
   "outputs": [],
   "source": [
    "# 4.1.2 Palabras pista: average, temperature y distance suenan bien\n",
    "\n",
    "txt_key = [\"average\", \"temperature\", \"distance\"]\n"
   ]
  },
  {
   "cell_type": "code",
   "execution_count": null,
   "metadata": {},
   "outputs": [],
   "source": [
    "# 4.1.3 Ciclo for para recorrer la cadena\n",
    "\n",
    "for valor in txt_p:\n",
    "    for key in txt_key:\n",
    "        if key in valor:\n",
    "            print(valor)\n",
    "            break"
   ]
  },
  {
   "cell_type": "code",
   "execution_count": null,
   "metadata": {},
   "outputs": [],
   "source": [
    "# 4.1.4 Ciclo para cambiar C a Celsius\n",
    "for valor in txt_p:\n",
    "    for key in txt_key:\n",
    "        if key in valor:\n",
    "            print(valor.replace('C', 'Celsius'))\n",
    "            break\n"
   ]
  },
  {
   "cell_type": "code",
   "execution_count": null,
   "metadata": {},
   "outputs": [],
   "source": [
    "# 4.2 Datos con los que vas a trabajar\n",
    "name = \"Moon\"\n",
    "gravity = 0.00162 # in kms\n",
    "planet = \"Earth\""
   ]
  },
  {
   "cell_type": "code",
   "execution_count": null,
   "metadata": {},
   "outputs": [],
   "source": [
    "# 4.2.1 Creamos el título\n",
    "title = f\"\"\"One strange rock{planet}\"\"\""
   ]
  },
  {
   "cell_type": "code",
   "execution_count": null,
   "metadata": {},
   "outputs": [],
   "source": [
    "# 4.2.2 Creamos la plantilla\n",
    "\n",
    "plantilla = f\"\"\"\"The planet is:{planet} \n",
    "The satellite is:{ name}\n",
    "with gravity of: {gravity * 1000} m\n",
    "\"\"\"\"\""
   ]
  },
  {
   "cell_type": "code",
   "execution_count": null,
   "metadata": {},
   "outputs": [],
   "source": [
    "# 4.2.3 Unión de ambas cadenas\n",
    "union =f\"\"\"{title.title()}\n",
    "{plantilla}\"\"\"\n",
    "print(plantilla)"
   ]
  },
  {
   "cell_type": "markdown",
   "metadata": {},
   "source": [
    "Datos muestra: \n",
    "```\n",
    "planeta = 'Marte '\n",
    "gravedad  = 0.00143\n",
    "nombre = 'Ganímedes'\n",
    "```"
   ]
  },
  {
   "cell_type": "code",
   "execution_count": null,
   "metadata": {},
   "outputs": [],
   "source": [
    "# 4.2.4 Nuevos datos de muestra\n",
    "planet = 'Marte '\n",
    "gravity  = 0.00143\n",
    "name = 'Ganímedes'"
   ]
  },
  {
   "cell_type": "code",
   "execution_count": null,
   "metadata": {},
   "outputs": [],
   "source": [
    "# 4.2.5 Comprueba la plantilla\n",
    "print(plantilla)"
   ]
  },
  {
   "cell_type": "code",
   "execution_count": null,
   "metadata": {},
   "outputs": [],
   "source": [
    "# 4.2.6 Nueva plantilla\n",
    "nueva_p = f\"\"\" The planet is: {planet}\n",
    "▄▄▄▄▄▄▄▄▄▄▄▄▄▄▄▄▄▄▄▄▄▄▄▄▄▄▄▄▄▄▄▄▄▄▄▄▄▄ \n",
    "The satellite is: { name}\n",
    "with gravity of: {gravity * 1000} m\n",
    "\"\"\"\n",
    "print(nueva_p.format(planet=planet, name=name, gravity=gravity))"
   ]
  },
  {
   "cell_type": "code",
   "execution_count": null,
   "metadata": {},
   "outputs": [],
   "source": [
    "# 4.2.7 Pista: print(nueva_plantilla.format(variables))\n",
    "\n",
    "print(nueva_p.format(planet=planet, name=name, gravity=gravity))"
   ]
  },
  {
   "cell_type": "markdown",
   "metadata": {},
   "source": [
    "## Modulo #5"
   ]
  },
  {
   "cell_type": "code",
   "execution_count": null,
   "metadata": {},
   "outputs": [],
   "source": [
    "# 5.1 Crear variables para almacenar las dos distancias\n",
    "# ¡Asegúrate de quitar las comas! Tierra (149.597.870 km) y Júpiter (778.547.200 km).\n",
    "\n",
    "D_earth = 149597870\n",
    "D_jupiter = 778547200"
   ]
  },
  {
   "cell_type": "code",
   "execution_count": null,
   "metadata": {},
   "outputs": [],
   "source": [
    "# 5.2 Calcular la distancia entre planetas 1.609344\n",
    "\n",
    "D_between_km = D_jupiter - D_earth\n",
    "print(abs(D_between_km))\n",
    "\n",
    "D_between_m = D_between_km * 0.621\n",
    "print(abs(D_between_m))\n",
    "\n"
   ]
  },
  {
   "cell_type": "code",
   "execution_count": null,
   "metadata": {},
   "outputs": [],
   "source": [
    "# 5.3 Almacenar las entradas del usuario\n",
    "#Pista: variable = input(\"¿Cuál es tu nombre?\")\n",
    "\n",
    "first_planet = input (\"¿Cual es la distancia del primer planeta en km? \")\n",
    "second_planet = input (\"¿Cual es la distancia del segundo planeta en km?\")"
   ]
  },
  {
   "cell_type": "code",
   "execution_count": null,
   "metadata": {},
   "outputs": [],
   "source": [
    "# 5.4 Convierte las cadenas de ambos planetas a números enteros\n",
    "\n",
    "first_planet = int(first_planet)\n",
    "second_planet = int (second_planet)\n"
   ]
  },
  {
   "cell_type": "code",
   "execution_count": null,
   "metadata": {},
   "outputs": [],
   "source": [
    "# 5.5 Realizar el cálculo y determinar el valor absoluto\n",
    "\n",
    "calculo = second_planet - first_planet\n",
    "print(abs(calculo))\n",
    "\n",
    "# Convertir de KM a Millas\n",
    "calculo_m = calculo * 0.621\n",
    "print(abs(calculo_m))"
   ]
  },
  {
   "cell_type": "markdown",
   "metadata": {},
   "source": [
    "### Modulo #6"
   ]
  },
  {
   "cell_type": "markdown",
   "metadata": {},
   "source": [
    "# Creamos la lista planets y la mostramos"
   ]
  },
  {
   "cell_type": "code",
   "execution_count": 35,
   "metadata": {},
   "outputs": [
    {
     "name": "stdout",
     "output_type": "stream",
     "text": [
      "['Mercurio', 'Venus', 'Tierra', 'Marte', 'Jupiter', 'Saturno', 'Urano', 'Neptuno']\n"
     ]
    }
   ],
   "source": [
    "# 6.1 Creamos la lista planets y la mostramos\n",
    "\n",
    "planets = ['Mercurio', 'Venus', 'Tierra', 'Marte', 'Jupiter', 'Saturno', 'Urano', 'Neptuno']\n",
    "\n",
    "print(planets)"
   ]
  },
  {
   "cell_type": "code",
   "execution_count": 36,
   "metadata": {},
   "outputs": [
    {
     "name": "stdout",
     "output_type": "stream",
     "text": [
      "El ultimo planeta es :  Pluton\n"
     ]
    }
   ],
   "source": [
    "# 6.2 Agregamos a plutón y mostramos el último elemento\n",
    "\n",
    "planets.append('Pluton')\n",
    "\n",
    "print('El ultimo planeta es : ', planets[-1])"
   ]
  },
  {
   "cell_type": "code",
   "execution_count": 37,
   "metadata": {},
   "outputs": [],
   "source": [
    "# 6.3 Lista de planetas\n",
    "\n",
    "planets = ['Mercurio', 'Venus', 'Tierra', 'Marte', 'Jupiter', 'Saturno', 'Urano', 'Neptuno']"
   ]
  },
  {
   "cell_type": "code",
   "execution_count": 38,
   "metadata": {},
   "outputs": [],
   "source": [
    "# 6.4 Solicitamos el nombre de un planeta *Pista:  input()*\n",
    "tu_planet= input('Por favor ingresa el nombre de un planeta de nuestro sistema solar , utiliza la primer letra en mayuscula')"
   ]
  },
  {
   "cell_type": "code",
   "execution_count": 39,
   "metadata": {},
   "outputs": [],
   "source": [
    "# Busca el planeta en la lista\n",
    "planets_index = planets.index(tu_planet)"
   ]
  },
  {
   "cell_type": "code",
   "execution_count": 40,
   "metadata": {},
   "outputs": [
    {
     "name": "stdout",
     "output_type": "stream",
     "text": [
      "Estos son los planetas mas cercanos al sol en comparacion con tu planeta → Marte\n",
      "['Mercurio', 'Venus', 'Tierra']\n"
     ]
    }
   ],
   "source": [
    "# 6.6 Muestra los planetas más cercanos al sol\n",
    "print('Estos son los planetas mas cercanos al sol en comparacion con tu planeta → ' + tu_planet)\n",
    "print(planets[0:planets_index])\n"
   ]
  },
  {
   "cell_type": "code",
   "execution_count": 41,
   "metadata": {},
   "outputs": [
    {
     "name": "stdout",
     "output_type": "stream",
     "text": [
      "Estos son los planetas mas lejanos al sol, con comparacion con tu planeta → Marte\n",
      "['Jupiter', 'Saturno', 'Urano']\n"
     ]
    }
   ],
   "source": [
    "# Muestra los planetas más lejanos al sol\n",
    "print('Estos son los planetas mas lejanos al sol, con comparacion con tu planeta → ' + tu_planet)\n",
    "print(planets[planets_index + 1:-1])"
   ]
  },
  {
   "cell_type": "markdown",
   "metadata": {},
   "source": [
    "### Modulo #7"
   ]
  },
  {
   "cell_type": "markdown",
   "metadata": {},
   "source": [
    "#### Ejercicio 1"
   ]
  },
  {
   "cell_type": "code",
   "execution_count": 48,
   "metadata": {},
   "outputs": [],
   "source": [
    "# 7.1 Declaramos 2 variables\n",
    "\n",
    "new_planet = ''\n",
    "planets = []"
   ]
  },
  {
   "cell_type": "code",
   "execution_count": 49,
   "metadata": {},
   "outputs": [],
   "source": [
    "# 7.2 Escribe el ciclo while solicitado\n",
    "\n",
    "while new_planet.lower() != 'done':\n",
    "    if new_planet:\n",
    "        planets.append(new_planet)\n",
    "    new_planet = input('Ingresa un nuevo plalneta...')"
   ]
  },
  {
   "cell_type": "markdown",
   "metadata": {},
   "source": [
    "#### Ejercicio 2"
   ]
  },
  {
   "cell_type": "code",
   "execution_count": 45,
   "metadata": {},
   "outputs": [
    {
     "name": "stdout",
     "output_type": "stream",
     "text": [
      "Mercurio\n",
      "Venus\n",
      "Tierra\n",
      "Marte\n",
      "Jupiter\n",
      "Saturno\n",
      "Urano\n",
      "Neptuno\n",
      "Marte\n",
      "mercueior\n"
     ]
    }
   ],
   "source": [
    "# 7.3 Escribe tu ciclo for para iterar en una lista de planetas\n",
    "\n",
    "for i in planets:\n",
    "    print(i)"
   ]
  },
  {
   "cell_type": "markdown",
   "metadata": {},
   "source": [
    "### Modulo #8 "
   ]
  },
  {
   "cell_type": "code",
   "execution_count": 2,
   "metadata": {},
   "outputs": [],
   "source": [
    "# 8.1 Crea un diccionario llamado planet con los datos propuestos\n",
    "planet = {\n",
    "    'name': 'Mars',\n",
    "    'moons': 2\n",
    "}"
   ]
  },
  {
   "cell_type": "code",
   "execution_count": 3,
   "metadata": {},
   "outputs": [
    {
     "name": "stdout",
     "output_type": "stream",
     "text": [
      "Mars has 2 moons\n"
     ]
    }
   ],
   "source": [
    "# 8.2 Muestra el nombre del planeta y el número de lunas que tiene.\n",
    "print(f'{planet.get(\"name\")} has {planet.get(\"moons\")} moons')"
   ]
  },
  {
   "cell_type": "code",
   "execution_count": 4,
   "metadata": {},
   "outputs": [],
   "source": [
    "# 8.3 Agrega la clave circunferencia con los datos proporcionados previamente\n",
    "\n",
    "planet['circumference (km)'] = {\n",
    "    'polar': 6752,\n",
    "    'equatorial': 6792\n",
    "}"
   ]
  },
  {
   "cell_type": "code",
   "execution_count": 7,
   "metadata": {},
   "outputs": [
    {
     "name": "stdout",
     "output_type": "stream",
     "text": [
      "Mars has a polar circumference of 6752\n"
     ]
    }
   ],
   "source": [
    "    # 8.4 Imprime el nombre del planeta con su circunferencia polar.\n",
    "    print(f'{planet.get(\"name\")} has a polar circumference of {planet[\"circumference (km)\"][\"polar\"]}')"
   ]
  },
  {
   "cell_type": "markdown",
   "metadata": {},
   "source": [
    "#### Ejercicio 2"
   ]
  },
  {
   "cell_type": "code",
   "execution_count": 8,
   "metadata": {},
   "outputs": [],
   "source": [
    "# 8.5 Planets and moons\n",
    "\n",
    "planet_moons = {\n",
    "    'mercury': 0,\n",
    "    'venus': 0,\n",
    "    'earth': 1,\n",
    "    'mars': 2,\n",
    "    'jupiter': 79,\n",
    "    'saturn': 82,\n",
    "    'uranus': 27,\n",
    "    'neptune': 14,\n",
    "    'pluto': 5,\n",
    "    'haumea': 2,\n",
    "    'makemake': 1,\n",
    "    'eris': 1\n",
    "}"
   ]
  },
  {
   "cell_type": "code",
   "execution_count": 13,
   "metadata": {},
   "outputs": [
    {
     "name": "stdout",
     "output_type": "stream",
     "text": [
      "dict_values([0, 0, 1, 2, 79, 82, 27, 14, 5, 2, 1, 1])\n",
      "12\n"
     ]
    }
   ],
   "source": [
    "# 8.6 Añade el código para determinar el número de lunas.\n",
    "moons = planet_moons.values()\n",
    "print(moons)\n",
    "\n",
    "planetas = len(planet_moons.keys())\n",
    "print(planetas)"
   ]
  },
  {
   "cell_type": "code",
   "execution_count": 18,
   "metadata": {},
   "outputs": [
    {
     "name": "stdout",
     "output_type": "stream",
     "text": [
      "214\n",
      "17.833333333333332\n"
     ]
    }
   ],
   "source": [
    "# 8.7 Agrega el código para contar el número de lunas. \n",
    "t_moons = 0\n",
    "for i in moons:\n",
    "    t_moons = t_moons + i\n",
    "print(t_moons)\n",
    "\n",
    "promedio = t_moons / planetas\n",
    "print(promedio)"
   ]
  },
  {
   "cell_type": "markdown",
   "metadata": {},
   "source": [
    "### Modulo #9"
   ]
  },
  {
   "cell_type": "code",
   "execution_count": 25,
   "metadata": {},
   "outputs": [],
   "source": [
    "# Función para leer 3 tanques de combustible y muestre el promedio\n",
    "def reporte(gas, gasolina, disel):\n",
    "    total = (gas + gasolina + disel) / 3\n",
    "    return f\"\"\"Reporte de combustible :\n",
    "    Combustible promedio: {total} %\n",
    "    Tanque de Gas: {gas} lts \n",
    "    Tanque de Gasolina: {gasolina}lts\n",
    "    Tanque de Disel: {disel}lts \n",
    "    \"\"\""
   ]
  },
  {
   "cell_type": "code",
   "execution_count": 31,
   "metadata": {},
   "outputs": [
    {
     "name": "stdout",
     "output_type": "stream",
     "text": [
      "Fuel Report:\n",
      "    Total Combustible: 43.333333333333336 %\n",
      "    Tanque de Gas: 30 lts \n",
      "    Tanque de Gasolina: 40lts\n",
      "    Tanque de Disel: 60lts \n",
      "    \n"
     ]
    }
   ],
   "source": [
    "\n",
    "# Llamamos a la función que genera el reporte print(funcion(tanque1, tanque2, tanque3))\n",
    "print(reporte(30,40,60))"
   ]
  },
  {
   "cell_type": "code",
   "execution_count": 32,
   "metadata": {},
   "outputs": [
    {
     "data": {
      "text/plain": [
       "37.8"
      ]
     },
     "execution_count": 32,
     "metadata": {},
     "output_type": "execute_result"
    }
   ],
   "source": [
    "# Función promedio \n",
    "def promedio_2(valor):\n",
    "    totales = sum(valor)\n",
    "    numeros = len(valor)\n",
    "    return  totales / numeros\n",
    "    \n",
    "promedio_2([15,45,34,67,28])\n",
    "\n",
    "    "
   ]
  },
  {
   "cell_type": "code",
   "execution_count": 33,
   "metadata": {},
   "outputs": [
    {
     "name": "stdout",
     "output_type": "stream",
     "text": [
      "Reporte de combustible :\n",
      "    Combustible promedio: 43.333333333333336 %\n",
      "    Tanque de Gas: 30 lts \n",
      "    Tanque de Gasolina: 40lts\n",
      "    Tanque de Disel: 60lts \n",
      "    \n"
     ]
    }
   ],
   "source": [
    "# Actualiza la función\n",
    "def reporte(gas, gasolina, disel):\n",
    "    total = (gas + gasolina + disel) / 3\n",
    "    return f\"\"\"Reporte de combustible :\n",
    "    Combustible promedio: {promedio_2([gas,gasolina,disel])} %\n",
    "    Tanque de Gas: {gas} lts \n",
    "    Tanque de Gasolina: {gasolina}lts\n",
    "    Tanque de Disel: {disel}lts \n",
    "    \"\"\"\n",
    "print(reporte(30,40,60))    "
   ]
  },
  {
   "cell_type": "markdown",
   "metadata": {},
   "source": [
    "#### Ejercicio #2"
   ]
  },
  {
   "cell_type": "code",
   "execution_count": 36,
   "metadata": {},
   "outputs": [
    {
     "name": "stdout",
     "output_type": "stream",
     "text": [
      "Informe de mision :\n",
      "    Destino ►►► Jupiter\n",
      "    Tiempo de vuelo : 8800 minnutos\n",
      "    Combustible →→ 630 lts    \n",
      "    \n"
     ]
    }
   ],
   "source": [
    "# Función con un informe preciso de la misión. Considera hora de prelanzamiento,\n",
    "#  tiempo de vuelo, destino, tanque externo y tanque interno\n",
    "def reporte_mision(tiempo_vuelo, destino, tanque_e, tanque_i, h_lanzamiento):\n",
    "    return f\"\"\"Informe de mision :\n",
    "    Destino ►►► {destino}\n",
    "    Tiempo de vuelo : {h_lanzamiento + tiempo_vuelo} minnutos\n",
    "    Combustible →→ {tanque_e + tanque_i} lts    \n",
    "    \"\"\"\n",
    "print(reporte_mision(7800, \"Jupiter\", 350, 280, 1000))"
   ]
  },
  {
   "cell_type": "code",
   "execution_count": 39,
   "metadata": {},
   "outputs": [
    {
     "name": "stdout",
     "output_type": "stream",
     "text": [
      "Informe de mision :\n",
      "    Destino ►►► Jupiter\n",
      "    Tiempo de vuelo : 8800 minnutos\n",
      "    Combustible →→ 630 lts    \n",
      "    \n"
     ]
    }
   ],
   "source": [
    "# Escribe tu nueva función de reporte considerando lo anterior\n",
    "def reporte_mision(destino, *minutos, **reserva_combustible):\n",
    "    return f\"\"\"Informe de mision :\n",
    "    Destino ►►► {destino}\n",
    "    Tiempo de vuelo : {sum(minutos)} minnutos\n",
    "    Combustible →→ {sum(reserva_combustible.values())} lts    \n",
    "    \"\"\"\n",
    "print(reporte_mision(\"Jupiter\", 7800, 1000, tanque_ext=350, tanque_int=280))"
   ]
  },
  {
   "cell_type": "code",
   "execution_count": 52,
   "metadata": {},
   "outputs": [
    {
     "name": "stdout",
     "output_type": "stream",
     "text": [
      "Informe de mision :\n",
      "    Destino ►►► Jupiter\n",
      "    Tiempo de vuelo : 8800 minnutos\n",
      "    Combustible →→ 630 lts    \n",
      "    ('tanque_ext', 350) : ('tanque_ext', 350) lts('tanque_ext', 350) : ('tanque_int', 280) lts\n"
     ]
    }
   ],
   "source": [
    "# Escribe tu nueva función\n",
    "def reporte_mision(destino, *minutos, **reserva_combustible):\n",
    "    reporte_de_la_mision = f\"\"\"Informe de mision :\n",
    "    Destino ►►► {destino}\n",
    "    Tiempo de vuelo : {sum(minutos)} minnutos\n",
    "    Combustible →→ {sum(reserva_combustible.values())} lts    \n",
    "    \"\"\"\n",
    "    for m in reserva_combustible.items():\n",
    "        for x in reserva_combustible.items():\n",
    "               reporte_de_la_mision += f\"{m} : {x} lts\"    \n",
    "        return reporte_de_la_mision\n",
    "\n",
    "print(reporte_mision(\"Jupiter\", 7800, 1000, tanque_ext=350, tanque_int=280))\n"
   ]
  },
  {
   "cell_type": "markdown",
   "metadata": {},
   "source": [
    "### Modulo #10"
   ]
  },
  {
   "cell_type": "code",
   "execution_count": null,
   "metadata": {},
   "outputs": [],
   "source": []
  }
 ],
 "metadata": {
  "interpreter": {
   "hash": "f6bc6ef55b9761beec69a19f491ba161a0a774ee4f3a0f882f107e630ddb2fa6"
  },
  "kernelspec": {
   "display_name": "Python 3.10.2 64-bit",
   "language": "python",
   "name": "python3"
  },
  "language_info": {
   "codemirror_mode": {
    "name": "ipython",
    "version": 3
   },
   "file_extension": ".py",
   "mimetype": "text/x-python",
   "name": "python",
   "nbconvert_exporter": "python",
   "pygments_lexer": "ipython3",
   "version": "3.10.2"
  },
  "orig_nbformat": 4
 },
 "nbformat": 4,
 "nbformat_minor": 2
}
